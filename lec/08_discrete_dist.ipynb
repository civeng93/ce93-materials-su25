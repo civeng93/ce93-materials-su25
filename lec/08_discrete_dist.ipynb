{
 "cells": [
  {
   "cell_type": "markdown",
   "id": "fa1d1764",
   "metadata": {},
   "source": [
    "# Engineering Data Analysis\n",
    "\n",
    "> **Mohamad M. Hallal, PhD** <br> Teaching Professor, UC Berkeley\n",
    "\n",
    "[![License](https://img.shields.io/badge/license-CC%20BY--NC--ND%204.0-blue)](https://creativecommons.org/licenses/by-nc-nd/4.0/)\n",
    "***"
   ]
  },
  {
   "cell_type": "markdown",
   "id": "be768732",
   "metadata": {},
   "source": [
    "# Common Discrete Distributions\n",
    "\n",
    "In this notebook, we will explore common discrete distributions and learn how to use them with the `scipy.stats` library. Discrete distributions are used to model scenarios where outcomes are distinct and countable. The `scipy.stats` library has built-in methods that can be used to directly obtain the probability mass function (PMF), cumulative distribution function (CDF), mean, variance, and more of any common distribution. However, it is **very important** to understand the inputs to these distributions in Python, as they might differ from what we discussed in class.\n",
    "\n",
    "Let's get started!"
   ]
  },
  {
   "cell_type": "markdown",
   "id": "b387adfd",
   "metadata": {},
   "source": [
    "# Bernoulli Distribution\n",
    "\n",
    "The Bernoulli distribution is the simplest discrete distribution, representing a single trial with two possible outcomes: success (1) or failure (0). It is characterized by a single parameter, $p$, which is the probability of success.\n",
    "\n",
    "| Distribution      | Python function |\n",
    "|:------------------|:----------------|\n",
    "| Bernoulli         | [`bernoulli(p)`](https://docs.scipy.org/doc/scipy/reference/generated/scipy.stats.bernoulli.html#scipy.stats.bernoulli) |\n",
    "\n",
    "# Binomial Distribution\n",
    "\n",
    "The Binomial distribution generalizes the Bernoulli distribution to multiple trials. It represents the number of successes in $n$ independent Bernoulli trials, each with probability $p$ of success.\n",
    "\n",
    "| Distribution      | Python function |\n",
    "|:------------------|:----------------|\n",
    "| Binomial          | [`binom(n, p)`](https://docs.scipy.org/doc/scipy/reference/generated/scipy.stats.binom.html#scipy.stats.binom) |\n",
    "\n",
    "Each distribution has built-in methods to directly calculate summary statistics, PMF, CDF, and even obtain a random sample. Below is a table summarizing some common methods available for discrete distributions in `scipy.stats`:\n",
    "\n",
    "| Method     | Description                                    | General Example    | Bernoulli Example                  |\n",
    "|:-----------|:-----------------------------------------------|:-------------------|:-----------------------------------|\n",
    "| `pmf()`    | Computes the PMF at specific value(s)          | `dist.pmf(k)`      | `bernoulli.pmf(p=0.5, k=0)`        |\n",
    "| `cdf()`    | Computes the CDF at specific value(s)          | `dist.cdf(k)`      | `bernoulli.cdf(p=0.5, k=range(2))` |\n",
    "| `mean()`   | Computes the expected value                    | `dist.mean()`      | `bernoulli.mean(p=0.5)`            |\n",
    "| `median()` | Computes the median                            | `dist.median()`    | `bernoulli.median(p=0.5)`          |\n",
    "| `var()`    | Computes the variance                          | `dist.var()`       | `bernoulli.var(p=0.5)`             |\n",
    "| `std()`    | Computes the standard deviation                | `dist.std()`       | `bernoulli.std(p=0.5)`             |\n",
    "| `rvs()`    | Generates random samples from the distribution | `dist.rvs(size=n)` | `bernoulli.rvs(p=0.5, size=10)`    |\n",
    "\n",
    "<div class=\"alert alert-block alert-info\"> <b>YOUR TURN!</b> Compute the mean and standard deviation of a Binomial distribution with 3 trials $p= 0.8$.</div> "
   ]
  },
  {
   "cell_type": "code",
   "execution_count": null,
   "id": "0e49033f",
   "metadata": {},
   "outputs": [],
   "source": [
    "from scipy.stats import binom\n",
    "\n",
    "# compute mean\n",
    "mean = ...\n",
    "print(f'Mean: {mean:.2f}')"
   ]
  },
  {
   "cell_type": "code",
   "execution_count": null,
   "id": "dea0c337-0401-476e-ae13-dd54f00aab9d",
   "metadata": {},
   "outputs": [],
   "source": [
    "# compute standard deviation\n",
    "stdev = ...\n",
    "print(f'Standard deviation: {stdev:.2f}')"
   ]
  },
  {
   "cell_type": "markdown",
   "id": "2ff3363d-afea-4873-80b4-3867af857119",
   "metadata": {},
   "source": [
    "<div class=\"alert alert-block alert-info\"> <b>YOUR TURN!</b> Run the code below to compare the above mean and standard deviation to those obtained from the duck sampling activity.</div> "
   ]
  },
  {
   "cell_type": "code",
   "execution_count": null,
   "id": "f6bc0cac-77d4-433e-baba-36cd7ebd77df",
   "metadata": {},
   "outputs": [],
   "source": [
    "import pandas as pd\n",
    "\n",
    "# Define path to data and their gid\n",
    "url = \"https://docs.google.com/spreadsheets/d/e/2PACX-1vQ2fUKXMhPV62PJbqbEC8Dx2cQ0r7DmCBCpLv-j18s0pt91Xr_VmbiIsRSr_uiiPmtHeTBE9LEgUU6A/pub?output=csv&gid=\"\n",
    "gids = [0, 256169159, 1309475386, 1766258035, 1993533243, 629036200, 1471433991, 1243754353, 1081653691, 1551041451, 1962198564, 502609536, 1908262079,\n",
    "        296536638, 11798463, 2073400276, 1086870903, 1160920316, 788098645, 1587255657, 682312113, 1718069535, 1389110583, 1856898227, 1288189134]\n",
    "\n",
    "# Create an empty DataFrame with column names\n",
    "all_samples = pd.DataFrame(columns=['X'])\n",
    "\n",
    "# Loop over all sheets\n",
    "for gid in gids:\n",
    "    df = pd.read_csv(f'{url}{gid}', nrows=30)\n",
    "    \n",
    "    # Concatenate the DataFrames vertically (along rows)\n",
    "    all_samples = pd.concat([all_samples, df[['X']].dropna()], ignore_index=True)\n",
    "\n",
    "all_samples = all_samples['X']\n",
    "\n",
    "# Mean of all groups\n",
    "print(f'Mean of All Groups: {round(all_samples.mean(),3)}')\n",
    "\n",
    "# Standard deviation of all groups\n",
    "print(f'Standard Deviation of All Groups: {round(all_samples.std(), 3)}')"
   ]
  },
  {
   "cell_type": "markdown",
   "id": "bf04588e",
   "metadata": {},
   "source": [
    "<div class=\"alert alert-block alert-info\"> <b>YOUR TURN!</b> Compute and plot the PMF of a Binomial distribution with 3 trials $p= 0.8$ and compare it to the PMF obtained by all groups.</div> "
   ]
  },
  {
   "cell_type": "code",
   "execution_count": null,
   "id": "33f4216a",
   "metadata": {},
   "outputs": [],
   "source": [
    "import matplotlib.pyplot as plt\n",
    "import numpy as np\n",
    "\n",
    "# x values\n",
    "x = np.arange(4)\n",
    "\n",
    "# Get PMF based on all groups\n",
    "proportion_array = np.array([np.mean(all_samples == val) for val in x])\n",
    "plt.vlines(x-0.02, 0, proportion_array, linewidth=4, label='All Groups')\n",
    "\n",
    "# Get theoretical PMF\n",
    "PMF = ...\n",
    "plt.vlines(x+0.02, 0, PMF, linewidth=4, color='r', label='Theoretical')\n",
    "\n",
    "# Add legend\n",
    "plt.legend(loc='upper left')\n",
    "\n",
    "# label the axes\n",
    "plt.xlabel('$X$')\n",
    "plt.ylabel('$p(x)$')\n",
    "\n",
    "# control the axes\n",
    "plt.ylim(0, 0.6)\n",
    "plt.xticks(x)\n",
    "\n",
    "plt.show()"
   ]
  },
  {
   "cell_type": "markdown",
   "id": "4ed7668e",
   "metadata": {},
   "source": [
    "These are only some of the common discrete distributions. You will explore other common discrete distributions in the lab."
   ]
  }
 ],
 "metadata": {
  "kernelspec": {
   "display_name": "Python 3 (ipykernel)",
   "language": "python",
   "name": "python3"
  },
  "language_info": {
   "codemirror_mode": {
    "name": "ipython",
    "version": 3
   },
   "file_extension": ".py",
   "mimetype": "text/x-python",
   "name": "python",
   "nbconvert_exporter": "python",
   "pygments_lexer": "ipython3",
   "version": "3.12.4"
  },
  "widgets": {
   "application/vnd.jupyter.widget-state+json": {
    "state": {},
    "version_major": 2,
    "version_minor": 0
   }
  }
 },
 "nbformat": 4,
 "nbformat_minor": 5
}
