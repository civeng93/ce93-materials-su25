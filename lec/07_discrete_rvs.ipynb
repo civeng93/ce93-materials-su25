{
 "cells": [
  {
   "cell_type": "markdown",
   "id": "a81b317b-6217-479a-8ae0-87a2c3c7d602",
   "metadata": {},
   "source": [
    "# Engineering Data Analysis\n",
    "\n",
    "> **Mohamad M. Hallal, PhD** <br> Teaching Professor, UC Berkeley\n",
    "\n",
    "[![License](https://img.shields.io/badge/license-CC%20BY--NC--ND%204.0-blue)](https://creativecommons.org/licenses/by-nc-nd/4.0/)\n",
    "***"
   ]
  },
  {
   "cell_type": "markdown",
   "id": "70c70356-dee0-482c-b5cc-d11abe198b39",
   "metadata": {},
   "source": [
    "# Discrete Random Variables\n",
    "\n",
    "In this notebook, we will explore the samples you selected during the in-class activity. Additionally, we'll combine the results from all groups to gain a deeper understanding of how discrete random variables work.\n",
    "\n",
    "Let's get started!"
   ]
  },
  {
   "cell_type": "markdown",
   "id": "7337d730-f2de-4c89-9a12-60217c954066",
   "metadata": {},
   "source": [
    "# Your Sample\n",
    "\n",
    "First, run the code below and enter your group number to read the data that you collected for the number of ducks of color A across all 30 repetitions."
   ]
  },
  {
   "cell_type": "code",
   "execution_count": null,
   "id": "71252e8c-def9-4a9e-aaac-67bdd8d68f14",
   "metadata": {},
   "outputs": [],
   "source": [
    "import pandas as pd\n",
    "\n",
    "# Define path to data and their gid\n",
    "url = \"https://docs.google.com/spreadsheets/d/e/2PACX-1vQ2fUKXMhPV62PJbqbEC8Dx2cQ0r7DmCBCpLv-j18s0pt91Xr_VmbiIsRSr_uiiPmtHeTBE9LEgUU6A/pub?output=csv&gid=\"\n",
    "gids = [0, 256169159, 1309475386, 1766258035, 1993533243, 629036200, 1471433991, 1243754353, 1081653691, 1551041451, 1962198564, 502609536, 1908262079,\n",
    "        296536638, 11798463, 2073400276, 1086870903, 1160920316, 788098645, 1587255657, 682312113, 1718069535, 1389110583, 1856898227, 1288189134]\n",
    "\n",
    "# Ask user for input\n",
    "group = int(input(\"Please enter your group number: \"))\n",
    "\n",
    "# Validate the input\n",
    "if 1 <= group <= 25:\n",
    "    print(f\"You selected: {group}\")\n",
    "else:\n",
    "    print(\"The number is out of range (should be between 1 and 25). Please run the code again and enter a valid number.\")\n",
    "\n",
    "# Read group data\n",
    "df = pd.read_csv(f'{url}{gids[group-1]}', nrows=30)"
   ]
  },
  {
   "cell_type": "markdown",
   "id": "6216de6f-76ed-4abd-8ceb-a5f43eb408ed",
   "metadata": {},
   "source": [
    "# Probability Mass Function\n",
    "\n",
    "Next, run the code below to plot the probability mass function of your sample."
   ]
  },
  {
   "cell_type": "code",
   "execution_count": null,
   "id": "dd63a9ee-bcca-4359-ac37-1efa71f1cd75",
   "metadata": {},
   "outputs": [],
   "source": [
    "import matplotlib.pyplot as plt\n",
    "\n",
    "# Extract the observed values of X\n",
    "sample = df['X']\n",
    "\n",
    "# Plot the PMF\n",
    "plt.hist(sample, bins=[-0.5, 0.5, 1.5, 2.5, 3.5], density=True, rwidth=0.8)\n",
    "\n",
    "# Control plot appearance\n",
    "plt.xlabel('$X$, Number of color A ducks in sample of 3')\n",
    "plt.ylabel('$p(x)$')\n",
    "plt.title(f'Probability Mass Function (PMF), Group {group}')\n",
    "plt.xticks([0, 1, 2, 3]) \n",
    "plt.show()"
   ]
  },
  {
   "cell_type": "markdown",
   "id": "ea5c9412-4933-4838-bbc9-eb26b075ad92",
   "metadata": {},
   "source": [
    "The 30 values you obtained are based on a random sample, and as we discussed in class, they are affected by sampling variation. A different group with another set of 30 values will likely have a different distribution. Let's now combine the results from all groups into a single probability mass function to get a clearer picture of the overall distribution.\n",
    "\n",
    "Run the code below to read the samples of all groups and plot their probability mass function."
   ]
  },
  {
   "cell_type": "code",
   "execution_count": null,
   "id": "f65701d9-4977-4e90-9640-f59ae81ff8f2",
   "metadata": {},
   "outputs": [],
   "source": [
    "# Create an empty DataFrame with column names\n",
    "all_samples = pd.DataFrame(columns=['X'])\n",
    "\n",
    "# Loop over all sheets\n",
    "for gid in gids:\n",
    "    df = pd.read_csv(f'{url}{gid}', nrows=30)\n",
    "    \n",
    "    # Concatenate the DataFrames vertically (along rows)\n",
    "    all_samples = pd.concat([all_samples, df[['X']].dropna()], ignore_index=True)\n",
    "\n",
    "all_samples = all_samples['X']\n",
    "\n",
    "# Plot the PMF\n",
    "plt.hist(all_samples, bins=[-0.5, 0.5, 1.5, 2.5, 3.5], density=True, rwidth=0.8)\n",
    "\n",
    "# Control plot appearance\n",
    "plt.xlabel('$X$, Number of color A ducks in sample of 3')\n",
    "plt.ylabel('$p(x)$')\n",
    "plt.title('Probability Mass Function (PMF), All Groups')\n",
    "plt.xticks([0, 1, 2, 3]) \n",
    "plt.show()"
   ]
  },
  {
   "cell_type": "markdown",
   "id": "b3b4cac0-2007-43c6-b538-34dc4fcea96b",
   "metadata": {},
   "source": [
    "# Numerical Summaries\n",
    "\n",
    "Finally, run the code below to calculate the mean and standard deviation of your sample and the combined results from all groups."
   ]
  },
  {
   "cell_type": "code",
   "execution_count": null,
   "id": "2c9a3e9a-ac7c-4357-b1a6-2adee9f97536",
   "metadata": {},
   "outputs": [],
   "source": [
    "# Mean of selected group\n",
    "print(f'Mean of Group {group}: {round(sample.mean(),3)}')\n",
    "\n",
    "# Mean of all groups\n",
    "print(f'Mean of All Groups: {round(all_samples.mean(),3)}')\n",
    "\n",
    "# Standard deviation of selected group\n",
    "print(f'Standard Deviation of Group {group}: {round(sample.std(), 3)}')\n",
    "\n",
    "# Standard deviation of all groups\n",
    "print(f'Standard Deviation of All Groups: {round(all_samples.std(), 3)}')"
   ]
  }
 ],
 "metadata": {
  "kernelspec": {
   "display_name": "Python 3 (ipykernel)",
   "language": "python",
   "name": "python3"
  },
  "language_info": {
   "codemirror_mode": {
    "name": "ipython",
    "version": 3
   },
   "file_extension": ".py",
   "mimetype": "text/x-python",
   "name": "python",
   "nbconvert_exporter": "python",
   "pygments_lexer": "ipython3",
   "version": "3.11.11"
  }
 },
 "nbformat": 4,
 "nbformat_minor": 5
}
