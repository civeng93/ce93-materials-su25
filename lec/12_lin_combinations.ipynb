{
 "cells": [
  {
   "cell_type": "markdown",
   "id": "6d3ff535",
   "metadata": {},
   "source": [
    "# Engineering Data Analysis\n",
    "\n",
    "> **Mohamad M. Hallal, PhD** <br> Teaching Professor, UC Berkeley\n",
    "\n",
    "[![License](https://img.shields.io/badge/license-CC%20BY--NC--ND%204.0-blue)](https://creativecommons.org/licenses/by-nc-nd/4.0/)\n",
    "***"
   ]
  },
  {
   "cell_type": "markdown",
   "id": "c08b5010",
   "metadata": {},
   "source": [
    "# Linear Combination of Random Variables\n",
    "\n",
    "In this notebook, we will explore how to compute numerical summaries of a linear combination of random variables. We will examine a dataset of exam scores and then generate random test scores and examine how combining them affects the overall score. \n",
    "\n",
    "Let's get started!"
   ]
  },
  {
   "cell_type": "markdown",
   "id": "796d6ede",
   "metadata": {},
   "source": [
    "# Dataset\n",
    "\n",
    "Let's load the provided data set `grades.csv`. These are all the features:\n",
    "\n",
    "| Feature  | Units | Description                            |\n",
    "| :-       | :-    | :-                                     |\n",
    "| Test 1   | %     | Test 1 score of a student              |\n",
    "| Test 2   | %     | Test 2 score of a student              |\n",
    "\n",
    "Run the cell below, which reads the data and saves it as a variable named `data`."
   ]
  },
  {
   "cell_type": "code",
   "execution_count": null,
   "id": "946f9a79",
   "metadata": {},
   "outputs": [],
   "source": [
    "import pandas as pd\n",
    "\n",
    "# Load dataset\n",
    "data = pd.read_csv('resources/grades.csv')\n",
    "\n",
    "# Extract Test 1 and Test 2 scores\n",
    "test1 = data['Test1(%)']\n",
    "test2 = data['Test2(%)']\n",
    "\n",
    "# Display the first few rows of the data using the head() method\n",
    "data.head()"
   ]
  },
  {
   "cell_type": "markdown",
   "id": "af36aff2",
   "metadata": {},
   "source": [
    "Let's visually examine if there is any relationship between Test 1 and Test 2 grades. \n",
    "\n",
    "Run the cell below to create a scatter plot of Test 2 (y) versus Test 1 (x) grades."
   ]
  },
  {
   "cell_type": "code",
   "execution_count": null,
   "id": "3152db9c",
   "metadata": {},
   "outputs": [],
   "source": [
    "import matplotlib.pyplot as plt\n",
    "\n",
    "# plot the scatter plot\n",
    "plt.scatter(test1, test2)\n",
    "\n",
    "# label the axes\n",
    "plt.xlabel('Test 1 (%)')\n",
    "plt.ylabel('Test 2 (%)')\n",
    "\n",
    "# control limits\n",
    "plt.xlim(0,105)\n",
    "plt.ylim(0,105)\n",
    "\n",
    "plt.show()"
   ]
  },
  {
   "cell_type": "markdown",
   "id": "9217b202",
   "metadata": {},
   "source": [
    "<div class=\"alert alert-block alert-warning\"> <b>DISCUSS!</b> <b>What does the scatter plot tell you about the relationship between Test 1 and Test 2 scores?</b></div> "
   ]
  },
  {
   "cell_type": "markdown",
   "id": "655b6f6c",
   "metadata": {},
   "source": [
    "# Total Score\n",
    "\n",
    "The total score on tests can be defined as the sum of the Test 1 and Test 2 scores:\n",
    "\n",
    "$$\\text{Total Score} = \\text{Test 1} + \\text{Test 2}$$\n",
    "\n",
    "<div class=\"alert alert-block alert-warning\"> <b>DISCUSS!</b> <b>What can you say about the above equation? Is it a linear combination or not?</b></div> \n",
    "\n",
    "Run the code below to compute the total test score for each student."
   ]
  },
  {
   "cell_type": "code",
   "execution_count": null,
   "id": "223795a0",
   "metadata": {},
   "outputs": [],
   "source": [
    "total = test1 + test2\n",
    "\n",
    "# Display the first few rows of the data using the head() method\n",
    "total.head()"
   ]
  },
  {
   "cell_type": "markdown",
   "id": "7c21219f-96a1-420d-86e1-781393db889a",
   "metadata": {},
   "source": [
    "# Expected Value\n",
    "\n",
    "We want to determine the mean total score.\n",
    "\n",
    "<div class=\"alert alert-block alert-info\"> <b>YOUR TURN!</b> Compute the mean of the Test 1, Test 2, and Total scores.</div> "
   ]
  },
  {
   "cell_type": "code",
   "execution_count": null,
   "id": "559871f7-f52c-46a7-88f6-c020b6c51c04",
   "metadata": {},
   "outputs": [],
   "source": [
    "test1_mean = ...\n",
    "test2_mean = ...\n",
    "total_mean = ...\n",
    "\n",
    "print(f'Test 1 Mean:  {test1_mean:.0f}%')\n",
    "print(f'Test 2 Mean:  {test2_mean:.0f}%')\n",
    "print(f'Total Mean:  {total_mean:.0f}%')"
   ]
  },
  {
   "cell_type": "markdown",
   "id": "5ea7177c",
   "metadata": {},
   "source": [
    "<div class=\"alert alert-block alert-warning\"> <b>DISCUSS!</b> <b>Imagine we don't have access to the individual scores for Test 1 and Test 2. Instead, we're only told that the mean score on Test 1 is 79% and the mean score on Test 2 is 78%. Can we still calculate the mean total score? If so, how? Feel free to test your logic in the cell below.</b></div> "
   ]
  },
  {
   "cell_type": "code",
   "execution_count": null,
   "id": "19369656",
   "metadata": {},
   "outputs": [],
   "source": []
  },
  {
   "cell_type": "markdown",
   "id": "fb14c4d0-8df8-4b74-b405-20c4d665624b",
   "metadata": {},
   "source": [
    "# Variance\n",
    "\n",
    "We want to determine the variance of the total score.\n",
    "\n",
    "<div class=\"alert alert-block alert-info\"> <b>YOUR TURN!</b> Compute the variance of the Test 1, Test 2, and Total scores.</div> "
   ]
  },
  {
   "cell_type": "code",
   "execution_count": null,
   "id": "bc993eee-cecb-4294-8294-41125a18cb70",
   "metadata": {},
   "outputs": [],
   "source": [
    "test1_var = ...\n",
    "test2_var = ...\n",
    "total_var = ...\n",
    "\n",
    "print(f'Test 1 Variance: {test1_var:.0f}%^2')\n",
    "print(f'Test 2 Variance: {test2_var:.0f}%^2')\n",
    "print(f'Total Variance:  {total_var:.0f}%^2')"
   ]
  },
  {
   "cell_type": "markdown",
   "id": "a8714459-569c-4794-9777-c23f7b45a3b0",
   "metadata": {},
   "source": [
    "<div class=\"alert alert-block alert-warning\"> <b>DISCUSS!</b> <b>Imagine we don't have access to the individual scores for Test 1 and Test 2. Instead, we're only told that the variance on Test 1 is 259%^2 and the variance on Test 2 is 309%^2. Can we still calculate the variance of the total score? If so, how? Feel free to test your logic in the cell below.</b></div> "
   ]
  },
  {
   "cell_type": "code",
   "execution_count": null,
   "id": "3d828ece-4ecc-4c3a-97fd-96a5977dadfd",
   "metadata": {},
   "outputs": [],
   "source": []
  },
  {
   "cell_type": "markdown",
   "id": "75a9e05e-02ae-453e-9f7e-25f6dd3ace1d",
   "metadata": {},
   "source": [
    "Let's simulate a random dataset for Test 1 and Test 2 scores. Run the code below to generate random values for Test 1 and Test 2 and then create a scatter plot of the randomized Test 2 (y) versus Test 1 (x) grades."
   ]
  },
  {
   "cell_type": "code",
   "execution_count": null,
   "id": "4ba28145-16f8-4590-bf1c-401c4a7dac93",
   "metadata": {},
   "outputs": [],
   "source": [
    "import numpy as np\n",
    "\n",
    "# set seed number\n",
    "np.random.seed(14)\n",
    "\n",
    "# create two random datasets\n",
    "test1_rand = np.random.randint(30, 100, 100)\n",
    "test2_rand = np.random.randint(30, 100, 100)\n",
    "\n",
    "# plot the scatter plot\n",
    "plt.scatter(test1_rand, test2_rand)\n",
    "\n",
    "# label the axes\n",
    "plt.xlabel('Random Test 1 (%)')\n",
    "plt.ylabel('Random Test 2 (%)')\n",
    "\n",
    "# control limits\n",
    "plt.xlim(0,105)\n",
    "plt.ylim(0,105)\n",
    "\n",
    "plt.show()"
   ]
  },
  {
   "cell_type": "markdown",
   "id": "ad6b2f8b-9dbf-457d-8633-c59362ebc874",
   "metadata": {},
   "source": [
    "<div class=\"alert alert-block alert-warning\"> <b>DISCUSS!</b> <b>What does the scatter plot tell you about the relationship between the randomized Test 1 and Test 2 scores?</b></div>\n",
    "\n",
    "Next, run the cell below to get the total score and then the variances."
   ]
  },
  {
   "cell_type": "code",
   "execution_count": null,
   "id": "d0fd3820-14c3-4af7-acb2-49459d7d1763",
   "metadata": {},
   "outputs": [],
   "source": [
    "total_rand = test1_rand + test2_rand\n",
    "\n",
    "test1_rand_var = test1_rand.var()\n",
    "test2_rand_var = test2_rand.var()\n",
    "total_rand_var = total_rand.var()\n",
    "\n",
    "print(f'Test 1 Variance: {test1_rand_var:.0f}%^2')\n",
    "print(f'Test 2 Variance: {test2_rand_var:.0f}%^2')\n",
    "print(f'Total Variance:  {total_rand_var:.0f}%^2')"
   ]
  },
  {
   "cell_type": "markdown",
   "id": "c3146610-2c27-4e4a-9fab-90a7bb357ada",
   "metadata": {},
   "source": [
    "<div class=\"alert alert-block alert-warning\"> <b>DISCUSS!</b> <b>Again, imagine we don't have access to the individual scores for Test 1 and Test 2. Instead, we're only told that the variance on Test 1 is 413%^2 and the variance on Test 2 is 421%^2. Can we still calculate the variance of the total score? If so, how?</b></div> "
   ]
  }
 ],
 "metadata": {
  "kernelspec": {
   "display_name": "Python 3 (ipykernel)",
   "language": "python",
   "name": "python3"
  },
  "language_info": {
   "codemirror_mode": {
    "name": "ipython",
    "version": 3
   },
   "file_extension": ".py",
   "mimetype": "text/x-python",
   "name": "python",
   "nbconvert_exporter": "python",
   "pygments_lexer": "ipython3",
   "version": "3.11.11"
  },
  "widgets": {
   "application/vnd.jupyter.widget-state+json": {
    "state": {},
    "version_major": 2,
    "version_minor": 0
   }
  }
 },
 "nbformat": 4,
 "nbformat_minor": 5
}
